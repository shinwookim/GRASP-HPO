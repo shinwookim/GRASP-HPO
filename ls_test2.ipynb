{
 "cells": [
  {
   "cell_type": "code",
   "execution_count": 1,
   "metadata": {},
   "outputs": [],
   "source": [
    "from sklearn.datasets import load_digits\n",
    "from src.hpo.hpo_factory import HPOFactory\n",
    "from queue import PriorityQueue"
   ]
  },
  {
   "cell_type": "code",
   "execution_count": 2,
   "metadata": {},
   "outputs": [],
   "source": [
    "HYPERPARAMETER_RANGES = {\n",
    "    'n_estimators': (50, 500),\n",
    "    'max_depth': (3, 10),\n",
    "    'colsample_bytree': (0.5, 1),\n",
    "    'reg_lambda': (0.01, 1.0),\n",
    "    'subsample': (0.5, 1.0)\n",
    "}"
   ]
  },
  {
   "cell_type": "code",
   "execution_count": 3,
   "metadata": {},
   "outputs": [],
   "source": [
    "data, labels = load_digits(return_X_y=True)"
   ]
  },
  {
   "cell_type": "code",
   "execution_count": 4,
   "metadata": {},
   "outputs": [
    {
     "name": "stdout",
     "output_type": "stream",
     "text": [
      "0.9612890719665488\n",
      "0.9667464685425778\n",
      "0.9749698032786459\n",
      "0.9694318044803288\n",
      "0.9667492623932828\n",
      "0.9750008012228463\n",
      "0.9833296312414015\n",
      "0.9722038353260921\n",
      "0.9750076976704498\n",
      "0.9749960860852329\n",
      "\n",
      "Max: 0.9833296312414015\n",
      "{'n_estimators': 360, 'max_depth': 9, 'colsample_bytree': 0.9094517884170472, 'reg_lambda': 0.1718810335317562, 'subsample': 0.6588768795636653}\n"
     ]
    }
   ],
   "source": [
    "\n",
    "grasp_hpo = HPOFactory.create_hpo_strategy('GraspHpo')\n",
    "x_train, x_test, y_train, y_test = grasp_hpo.prepare_dataset(data, labels)\n",
    "intermediate = grasp_hpo.phase1.building_phase(x_train, x_test, y_train, y_test, HYPERPARAMETER_RANGES)\n",
    "scores = []\n",
    "sol = []\n",
    "for q in intermediate.queue: \n",
    "    print(q[0])\n",
    "    scores.append(q[0])\n",
    "    sol.append(q[2])\n",
    "print()\n",
    "m = max(scores)\n",
    "print('Max: ' + str(m))\n",
    "ind = []\n",
    "for i, s in enumerate(scores):\n",
    "    if s == m: ind.append(i)\n",
    "\n",
    "for i in ind: print(sol[i])"
   ]
  },
  {
   "cell_type": "code",
   "execution_count": 5,
   "metadata": {},
   "outputs": [
    {
     "name": "stdout",
     "output_type": "stream",
     "text": [
      "Best score: 0.9833867664165041\n",
      "Best solution: {'n_estimators': 394, 'max_depth': 3, 'colsample_bytree': 0.6353736589414868, 'reg_lambda': 0.907996060857905, 'subsample': 0.5481575189297248}\n"
     ]
    }
   ],
   "source": [
    "int2 = PriorityQueue()\n",
    "for c in intermediate.queue: int2.put(c)\n",
    "\n",
    "grasp_hpo.phase2.set_iter(25)\n",
    "grasp_hpo.phase2.set_margin(.8)\n",
    "best_trial_config, best_trial_score = grasp_hpo.phase2.local_search(int2, x_train, x_test, y_train, y_test, HYPERPARAMETER_RANGES)\n",
    "print('Best score: {}\\nBest solution: {}'.format(best_trial_score, best_trial_config))"
   ]
  },
  {
   "cell_type": "code",
   "execution_count": 7,
   "metadata": {},
   "outputs": [
    {
     "name": "stdout",
     "output_type": "stream",
     "text": [
      "iter 0 done\n",
      "iter 1 done\n",
      "iter 2 done\n",
      "iter 3 done\n",
      "iter 4 done\n",
      "iter 5 done\n",
      "iter 6 done\n",
      "iter 7 done\n",
      "iter 8 done\n",
      "iter 9 done\n"
     ]
    }
   ],
   "source": [
    "results = []\n",
    "\n",
    "for i in range(10):\n",
    "\n",
    "\n",
    "    int2 = PriorityQueue()\n",
    "    for c in intermediate.queue: int2.put(c)\n",
    "\n",
    "    grasp_hpo.phase2.set_iter(20)\n",
    "    grasp_hpo.phase2.set_margin(i * .1)\n",
    "    best_trial_config, best_trial_score = grasp_hpo.phase2.local_search(int2, x_train, x_test, y_train, y_test, HYPERPARAMETER_RANGES)\n",
    "    results.append([best_trial_score, best_trial_config])\n",
    "    print('iter {} done'.format(i))"
   ]
  },
  {
   "cell_type": "code",
   "execution_count": 10,
   "metadata": {},
   "outputs": [
    {
     "name": "stdout",
     "output_type": "stream",
     "text": [
      "Margin: 0.0\n",
      "Score: 0.9833296312414015\n",
      "Config: {'n_estimators': 360, 'max_depth': 9, 'colsample_bytree': 0.9094517884170472, 'reg_lambda': 0.1718810335317562, 'subsample': 0.6588768795636653}\n",
      "\n",
      "Margin: 0.1\n",
      "Score: 0.9860725814683259\n",
      "Config: {'n_estimators': 479, 'max_depth': 5, 'colsample_bytree': 0.7479474765662274, 'reg_lambda': 0.3918082429271485, 'subsample': 0.7626007337668617}\n",
      "\n",
      "Margin: 0.2\n",
      "Score: 0.9889375173156613\n",
      "Config: {'n_estimators': 478, 'max_depth': 6, 'colsample_bytree': 0.5343607324322585, 'reg_lambda': 0.46486475331639854, 'subsample': 0.5357819082605759}\n",
      "\n",
      "Margin: 0.30000000000000004\n",
      "Score: 0.9861085249525331\n",
      "Config: {'n_estimators': 286, 'max_depth': 5, 'colsample_bytree': 0.6685102328266341, 'reg_lambda': 0.6045543494940933, 'subsample': 0.9043526267573527}\n",
      "\n",
      "Margin: 0.4\n",
      "Score: 0.9833894524224134\n",
      "Config: {'n_estimators': 298, 'max_depth': 3, 'colsample_bytree': 0.692285327756755, 'reg_lambda': 0.09050577054401693, 'subsample': 0.5439237877848657}\n",
      "\n",
      "Margin: 0.5\n",
      "Score: 0.9834438349273524\n",
      "Config: {'n_estimators': 107, 'max_depth': 3, 'colsample_bytree': 0.7447959416049821, 'reg_lambda': 0.4114700799677415, 'subsample': 0.940423507141829}\n",
      "\n",
      "Margin: 0.6000000000000001\n",
      "Score: 0.9834665205690941\n",
      "Config: {'n_estimators': 349, 'max_depth': 4, 'colsample_bytree': 0.7499276603119848, 'reg_lambda': 0.6842791330682689, 'subsample': 0.5593885373702813}\n",
      "\n",
      "Margin: 0.7000000000000001\n",
      "Score: 0.9861518312525072\n",
      "Config: {'n_estimators': 251, 'max_depth': 3, 'colsample_bytree': 0.7330315183092845, 'reg_lambda': 0.8897424052705426, 'subsample': 0.8156913041922174}\n",
      "\n",
      "Margin: 0.8\n",
      "Score: 0.9888967345784111\n",
      "Config: {'n_estimators': 259, 'max_depth': 7, 'colsample_bytree': 0.6000708708258558, 'reg_lambda': 0.3832798187503058, 'subsample': 0.583437887004697}\n",
      "\n",
      "Margin: 0.9\n",
      "Score: 0.9861485914321552\n",
      "Config: {'n_estimators': 331, 'max_depth': 5, 'colsample_bytree': 0.534837008675246, 'reg_lambda': 0.3042602142643883, 'subsample': 0.5768894245589415}\n",
      "\n"
     ]
    }
   ],
   "source": [
    "for i, res in enumerate(results):\n",
    "    print('Margin: {}'.format(i * .1))\n",
    "    print('Score: {}'.format(res[0]))\n",
    "    print('Config: {}'.format(res[1]))\n",
    "    print()"
   ]
  }
 ],
 "metadata": {
  "kernelspec": {
   "display_name": ".venv",
   "language": "python",
   "name": "python3"
  },
  "language_info": {
   "codemirror_mode": {
    "name": "ipython",
    "version": 3
   },
   "file_extension": ".py",
   "mimetype": "text/x-python",
   "name": "python",
   "nbconvert_exporter": "python",
   "pygments_lexer": "ipython3",
   "version": "3.10.6"
  }
 },
 "nbformat": 4,
 "nbformat_minor": 2
}
