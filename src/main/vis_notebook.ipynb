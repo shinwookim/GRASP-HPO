{
 "cells": [
  {
   "cell_type": "code",
   "execution_count": 18,
   "id": "26e333f4",
   "metadata": {},
   "outputs": [],
   "source": [
    "import XGBoostGRASP_HPO as hpo_grasp\n",
    "import time\n",
    "from phase2grasp import LocalSearch\n",
    "from sklearn.datasets import load_breast_cancer, load_digits\n",
    "import matplotlib.pyplot as plt"
   ]
  },
  {
   "cell_type": "code",
   "execution_count": 21,
   "id": "c6f74cde",
   "metadata": {},
   "outputs": [],
   "source": [
    "x_train, x_test, y_train, y_test = hpo_grasp.prepare_dataset(load_breast_cancer())"
   ]
  },
  {
   "cell_type": "code",
   "execution_count": 22,
   "id": "8ead0416",
   "metadata": {},
   "outputs": [],
   "source": [
    "hyperparameter_ranges = {\n",
    "    'n_estimators': (50, 500),\n",
    "    'max_depth': (3, 10),\n",
    "    'colsample_bytree': (0.5, 1),\n",
    "    'reg_lambda': (0.01, 1.0),\n",
    "    'subsample': (0.5, 1.0)\n",
    "}"
   ]
  },
  {
   "cell_type": "code",
   "execution_count": 34,
   "id": "70835e1a",
   "metadata": {},
   "outputs": [],
   "source": [
    "def run_it():\n",
    "    start_build_time = time.time()\n",
    "    best_intermediate_combinations = hpo_grasp.building_phase()\n",
    "    end_build_time = time.time()\n",
    "    \n",
    "    first_score = hpo_grasp.evaluate_solution(best_intermediate_combinations.queue[0][2])\n",
    "    \n",
    "    ls = LocalSearch(hyperparameter_ranges)\n",
    "    ls.set_fn(5)\n",
    "\n",
    "    start_hill_time = time.time()\n",
    "    outer_counter = 1\n",
    "    #print(str(outer_counter) + \"---------\")\n",
    "    #print()\n",
    "    local_best_score, local_best_solution = hpo_grasp.hill_climb(best_intermediate_combinations.get()[2])\n",
    "    while not best_intermediate_combinations.empty():\n",
    "        outer_counter = outer_counter + 1\n",
    "        print(str(outer_counter) + \"---------\")\n",
    "        print()\n",
    "        temporary_score, temporary_solution = hpo_grasp.hill_climb(best_intermediate_combinations.get()[2])\n",
    "        if local_best_score < temporary_score:\n",
    "            local_best_score = temporary_score\n",
    "            local_best_solution = temporary_solution\n",
    "\n",
    "    end_hill_time = time.time()\n",
    "    #print(\"Hyperparameters: \" + str(local_best_solution))\n",
    "    #print(\"Achieved best score: \" + str(local_best_score))\n",
    "    xgboost_classifier = XGBClassifier(**local_best_solution)\n",
    "    scores = cross_val_score(xgboost_classifier,x_train,y_train,cv=5,error_score='raise')\n",
    "    #print(scores)\n",
    "    #print(scores.mean(),scores.std())\n",
    "    #print(str(end_build_time-start_build_time),str(end_hill_time-start_hill_time),str(end_hill_time-start_build_time))\n",
    "    return first_score, local_best_score"
   ]
  },
  {
   "cell_type": "code",
   "execution_count": null,
   "id": "1ade5519",
   "metadata": {},
   "outputs": [
    {
     "name": "stdout",
     "output_type": "stream",
     "text": [
      "{'n_estimators': 500, 'max_depth': 3, 'colsample_bytree': 0.5, 'reg_lambda': 0.01, 'subsample': 0.5}\n",
      "0.991207141671538\n",
      "build finished\n",
      "local search set to use fn 5\n",
      "1---------\n",
      "\n",
      "hill climb finished\n",
      "Hyperparameters: {'n_estimators': 500, 'max_depth': 3, 'colsample_bytree': 0.5, 'reg_lambda': 0.01, 'subsample': 0.5}\n",
      "Achieved best score: 0.991207141671538\n",
      "[0.97802198 0.96703297 0.95604396 0.94505495 0.97802198]\n",
      "0.9648351648351647 0.01281527888976988\n",
      "11.102995872497559 4.996999740600586 16.166995763778687\n",
      "{'n_estimators': 50, 'max_depth': 6, 'colsample_bytree': 1.0, 'reg_lambda': 0.505, 'subsample': 0.75}\n",
      "0.9824561403508771\n",
      "build finished\n",
      "local search set to use fn 5\n",
      "1---------\n",
      "\n",
      "hill climb finished\n",
      "Hyperparameters: {'n_estimators': 50, 'max_depth': 6, 'colsample_bytree': 1.0, 'reg_lambda': 0.505, 'subsample': 0.75}\n",
      "Achieved best score: 0.9824561403508771\n",
      "[0.97802198 0.96703297 0.95604396 0.93406593 0.97802198]\n",
      "0.9626373626373625 0.01644684565614917\n",
      "11.34000039100647 2.9609994888305664 14.321999788284302\n",
      "{'n_estimators': 275, 'max_depth': 6, 'colsample_bytree': 1.0, 'reg_lambda': 1.0, 'subsample': 0.5}\n",
      "0.9912054752585661\n",
      "build finished\n",
      "local search set to use fn 5\n",
      "1---------\n",
      "\n",
      "hill climb finished\n",
      "Hyperparameters: {'n_estimators': 275, 'max_depth': 6, 'colsample_bytree': 1.0, 'reg_lambda': 1.0, 'subsample': 0.5}\n",
      "Achieved best score: 0.9912054752585661\n",
      "[0.97802198 0.94505495 0.93406593 0.95604396 0.97802198]\n",
      "0.9582417582417582 0.017582417582417565\n",
      "11.291999578475952 3.337998867034912 14.686998844146729\n"
     ]
    }
   ],
   "source": [
    "x=[]\n",
    "y=[]\n",
    "for i in range(20):\n",
    "    x1, y1 = run_it()\n",
    "    x.append(x1)\n",
    "    y.append(y1)\n",
    "plt.plot(x1,y1)"
   ]
  },
  {
   "cell_type": "code",
   "execution_count": null,
   "id": "99458cd4",
   "metadata": {},
   "outputs": [],
   "source": []
  }
 ],
 "metadata": {
  "kernelspec": {
   "display_name": "Python 3 (ipykernel)",
   "language": "python",
   "name": "python3"
  },
  "language_info": {
   "codemirror_mode": {
    "name": "ipython",
    "version": 3
   },
   "file_extension": ".py",
   "mimetype": "text/x-python",
   "name": "python",
   "nbconvert_exporter": "python",
   "pygments_lexer": "ipython3",
   "version": "3.10.7"
  }
 },
 "nbformat": 4,
 "nbformat_minor": 5
}
