{
 "cells": [
  {
   "cell_type": "code",
   "execution_count": 1,
   "metadata": {},
   "outputs": [],
   "source": [
    "from main_hpo import HPO_SIM\n",
    "from grasp_core import GRASP_HPO\n",
    "\n",
    "from sklearn.datasets import load_breast_cancer, load_digits\n",
    "\n",
    "from queue import PriorityQueue\n",
    "import pandas as pd\n",
    "import matplotlib as plt"
   ]
  },
  {
   "cell_type": "code",
   "execution_count": 2,
   "metadata": {},
   "outputs": [],
   "source": [
    "sim = HPO_SIM()\n",
    "sim.prepare_dataset(load_breast_cancer())"
   ]
  },
  {
   "cell_type": "code",
   "execution_count": 3,
   "metadata": {},
   "outputs": [],
   "source": [
    "hp_ranges = {\n",
    "    'n_estimators': (50, 500),\n",
    "    'max_depth': (3, 10),\n",
    "    'colsample_bytree': (0.5, 1),\n",
    "    'reg_lambda': (0.01, 1.0),\n",
    "    'subsample': (0.5, 1.0)\n",
    "}\n",
    "\n",
    "ghpo = GRASP_HPO(sim.evaluate_solution)\n",
    "ghpo.configure_ranges(hp_ranges)"
   ]
  },
  {
   "cell_type": "code",
   "execution_count": 4,
   "metadata": {},
   "outputs": [
    {
     "data": {
      "text/html": [
       "<div>\n",
       "<style scoped>\n",
       "    .dataframe tbody tr th:only-of-type {\n",
       "        vertical-align: middle;\n",
       "    }\n",
       "\n",
       "    .dataframe tbody tr th {\n",
       "        vertical-align: top;\n",
       "    }\n",
       "\n",
       "    .dataframe thead th {\n",
       "        text-align: right;\n",
       "    }\n",
       "</style>\n",
       "<table border=\"1\" class=\"dataframe\">\n",
       "  <thead>\n",
       "    <tr style=\"text-align: right;\">\n",
       "      <th></th>\n",
       "      <th>score</th>\n",
       "    </tr>\n",
       "  </thead>\n",
       "  <tbody>\n",
       "    <tr>\n",
       "      <th>0</th>\n",
       "      <td>0.964509</td>\n",
       "    </tr>\n",
       "    <tr>\n",
       "      <th>1</th>\n",
       "      <td>0.964509</td>\n",
       "    </tr>\n",
       "  </tbody>\n",
       "</table>\n",
       "</div>"
      ],
      "text/plain": [
       "      score\n",
       "0  0.964509\n",
       "1  0.964509"
      ]
     },
     "execution_count": 4,
     "metadata": {},
     "output_type": "execute_result"
    }
   ],
   "source": [
    "pq = ghpo.get_intermediate()\n",
    "after_phase_1 = []\n",
    "for combo in pq.queue: after_phase_1.append(combo[0])\n",
    "inputs = pd.DataFrame({'score': after_phase_1})\n",
    "inputs\n",
    "# list of different HP configuration k-fold scores in priority queue FROM BUILD PHASE"
   ]
  },
  {
   "cell_type": "code",
   "execution_count": 5,
   "metadata": {},
   "outputs": [
    {
     "data": {
      "text/plain": [
       "0.9645092460881936"
      ]
     },
     "execution_count": 5,
     "metadata": {},
     "output_type": "execute_result"
    }
   ],
   "source": [
    "# achieved best score from build phase\n",
    "to_improve = max(after_phase_1)\n",
    "to_improve"
   ]
  },
  {
   "cell_type": "code",
   "execution_count": 6,
   "metadata": {},
   "outputs": [
    {
     "name": "stdout",
     "output_type": "stream",
     "text": [
      "Trial 0 completed\n",
      "Trial 1 completed\n",
      "Trial 2 completed\n",
      "Trial 3 completed\n",
      "Trial 4 completed\n",
      "Trial 5 completed\n",
      "Trial 6 completed\n",
      "Trial 7 completed\n",
      "Trial 8 completed\n",
      "Trial 9 completed\n",
      "Trial 10 completed\n",
      "Trial 11 completed\n",
      "Trial 12 completed\n",
      "Trial 13 completed\n",
      "Trial 14 completed\n"
     ]
    }
   ],
   "source": [
    "many_tests = []\n",
    "\n",
    "for i in range(15):\n",
    "    after_ls = {}\n",
    "\n",
    "    combo1 = PriorityQueue()\n",
    "    combo2 = PriorityQueue()\n",
    "    combo3 = PriorityQueue()\n",
    "    combo4 = PriorityQueue()\n",
    "    for c in pq.queue: \n",
    "        combo1.put(c)\n",
    "        combo2.put(c)\n",
    "        combo3.put(c)\n",
    "        combo4.put(c)\n",
    "\n",
    "    \n",
    "    ghpo.set_margin(.1)\n",
    "    # test each function and save k-fold mean score\n",
    "    score, solution = ghpo.tune_intermediate(combo1)\n",
    "    after_ls['margin +/- 5%'] = [score]\n",
    "\n",
    "    ghpo.set_margin(.3)\n",
    "    score, solution = ghpo.tune_intermediate(combo2)\n",
    "    after_ls['margin +/- 15%'] = [score]\n",
    "\n",
    "    ghpo.set_margin(.5)\n",
    "    score, solution = ghpo.tune_intermediate(combo3)\n",
    "    after_ls['margin +/- 25%'] = [score]\n",
    "\n",
    "    ghpo.set_margin(.8)\n",
    "    score, solution = ghpo.tune_intermediate(combo4)\n",
    "    after_ls['margin +/- 40%'] = [score]\n",
    "\n",
    "    outputs = pd.DataFrame(after_ls, index=['score'])\n",
    "    outputs = pd.melt(outputs)\n",
    "\n",
    "    dif = [score - to_improve for score in outputs.loc[:,'value']]\n",
    "    outputs['increase'] = dif\n",
    "\n",
    "    percentage = [inc / to_improve for inc in outputs.loc[:,'increase']]\n",
    "    outputs['percentage'] = percentage\n",
    "\n",
    "    many_tests.append(outputs)\n",
    "    print('Trial {} completed'.format(i))"
   ]
  },
  {
   "cell_type": "code",
   "execution_count": 7,
   "metadata": {},
   "outputs": [
    {
     "data": {
      "text/html": [
       "<div>\n",
       "<style scoped>\n",
       "    .dataframe tbody tr th:only-of-type {\n",
       "        vertical-align: middle;\n",
       "    }\n",
       "\n",
       "    .dataframe tbody tr th {\n",
       "        vertical-align: top;\n",
       "    }\n",
       "\n",
       "    .dataframe thead th {\n",
       "        text-align: right;\n",
       "    }\n",
       "</style>\n",
       "<table border=\"1\" class=\"dataframe\">\n",
       "  <thead>\n",
       "    <tr style=\"text-align: right;\">\n",
       "      <th></th>\n",
       "      <th>variable</th>\n",
       "      <th>value</th>\n",
       "      <th>increase</th>\n",
       "      <th>percentage</th>\n",
       "    </tr>\n",
       "  </thead>\n",
       "  <tbody>\n",
       "    <tr>\n",
       "      <th>2</th>\n",
       "      <td>margin +/- 40%</td>\n",
       "      <td>0.973465</td>\n",
       "      <td>0.008956</td>\n",
       "      <td>0.009286</td>\n",
       "    </tr>\n",
       "    <tr>\n",
       "      <th>3</th>\n",
       "      <td>margin +/- 5%</td>\n",
       "      <td>0.973465</td>\n",
       "      <td>0.008956</td>\n",
       "      <td>0.009286</td>\n",
       "    </tr>\n",
       "    <tr>\n",
       "      <th>1</th>\n",
       "      <td>margin +/- 25%</td>\n",
       "      <td>0.972868</td>\n",
       "      <td>0.008359</td>\n",
       "      <td>0.008667</td>\n",
       "    </tr>\n",
       "    <tr>\n",
       "      <th>0</th>\n",
       "      <td>margin +/- 15%</td>\n",
       "      <td>0.971674</td>\n",
       "      <td>0.007165</td>\n",
       "      <td>0.007429</td>\n",
       "    </tr>\n",
       "  </tbody>\n",
       "</table>\n",
       "</div>"
      ],
      "text/plain": [
       "         variable     value  increase  percentage\n",
       "2  margin +/- 40%  0.973465  0.008956    0.009286\n",
       "3   margin +/- 5%  0.973465  0.008956    0.009286\n",
       "1  margin +/- 25%  0.972868  0.008359    0.008667\n",
       "0  margin +/- 15%  0.971674  0.007165    0.007429"
      ]
     },
     "execution_count": 7,
     "metadata": {},
     "output_type": "execute_result"
    }
   ],
   "source": [
    "result = pd.concat(many_tests)\n",
    "avgs = result.groupby('variable', as_index=False).mean()\n",
    "avgs = avgs.sort_values(by=['percentage'], ascending=False)\n",
    "avgs"
   ]
  },
  {
   "cell_type": "code",
   "execution_count": 8,
   "metadata": {},
   "outputs": [
    {
     "data": {
      "image/png": "[encoded data removed]",
      "text/plain": [
       "<Figure size 640x480 with 1 Axes>"
      ]
     },
     "metadata": {},
     "output_type": "display_data"
    }
   ],
   "source": [
    "ax = avgs.plot.bar(x='variable', y=['increase', 'percentage'], rot=0)\n",
    "#fig = ax.get_figure()\n",
    "#fig.savefig('figs/test5-40trials-956b-25ls')"
   ]
  },
  {
   "cell_type": "code",
   "execution_count": 13,
   "metadata": {},
   "outputs": [
    {
     "data": {
      "text/html": [
       "<div>\n",
       "<style scoped>\n",
       "    .dataframe tbody tr th:only-of-type {\n",
       "        vertical-align: middle;\n",
       "    }\n",
       "\n",
       "    .dataframe tbody tr th {\n",
       "        vertical-align: top;\n",
       "    }\n",
       "\n",
       "    .dataframe thead th {\n",
       "        text-align: right;\n",
       "    }\n",
       "</style>\n",
       "<table border=\"1\" class=\"dataframe\">\n",
       "  <thead>\n",
       "    <tr style=\"text-align: right;\">\n",
       "      <th></th>\n",
       "      <th>variable</th>\n",
       "      <th>value</th>\n",
       "      <th>increase</th>\n",
       "      <th>percentage</th>\n",
       "    </tr>\n",
       "  </thead>\n",
       "  <tbody>\n",
       "    <tr>\n",
       "      <th>0</th>\n",
       "      <td>margin +/- 15%</td>\n",
       "      <td>0.964509</td>\n",
       "      <td>0.000000</td>\n",
       "      <td>0.000000</td>\n",
       "    </tr>\n",
       "    <tr>\n",
       "      <th>1</th>\n",
       "      <td>margin +/- 25%</td>\n",
       "      <td>0.964509</td>\n",
       "      <td>0.000000</td>\n",
       "      <td>0.000000</td>\n",
       "    </tr>\n",
       "    <tr>\n",
       "      <th>2</th>\n",
       "      <td>margin +/- 40%</td>\n",
       "      <td>0.973465</td>\n",
       "      <td>0.008956</td>\n",
       "      <td>0.009286</td>\n",
       "    </tr>\n",
       "    <tr>\n",
       "      <th>3</th>\n",
       "      <td>margin +/- 5%</td>\n",
       "      <td>0.973465</td>\n",
       "      <td>0.008956</td>\n",
       "      <td>0.009286</td>\n",
       "    </tr>\n",
       "  </tbody>\n",
       "</table>\n",
       "</div>"
      ],
      "text/plain": [
       "         variable     value  increase  percentage\n",
       "0  margin +/- 15%  0.964509  0.000000    0.000000\n",
       "1  margin +/- 25%  0.964509  0.000000    0.000000\n",
       "2  margin +/- 40%  0.973465  0.008956    0.009286\n",
       "3   margin +/- 5%  0.973465  0.008956    0.009286"
      ]
     },
     "execution_count": 13,
     "metadata": {},
     "output_type": "execute_result"
    },
    {
     "data": {
      "image/png": "[encoded data removed]",
      "text/plain": [
       "<Figure size 640x480 with 1 Axes>"
      ]
     },
     "metadata": {},
     "output_type": "display_data"
    }
   ],
   "source": [
    "min = result.groupby('variable', as_index=False).min()\n",
    "ax1 = min.plot.bar(x='variable', y=['increase', 'percentage'], rot=0)\n",
    "#fig1 = ax1.get_figure()\n",
    "#fig1.savefig('figs/test3-30trials-958b-50ls-MIN')\n",
    "min"
   ]
  }
 ],
 "metadata": {
  "kernelspec": {
   "display_name": ".venv",
   "language": "python",
   "name": "python3"
  },
  "language_info": {
   "codemirror_mode": {
    "name": "ipython",
    "version": 3
   },
   "file_extension": ".py",
   "mimetype": "text/x-python",
   "name": "python",
   "nbconvert_exporter": "python",
   "pygments_lexer": "ipython3",
   "version": "3.10.6"
  }
 },
 "nbformat": 4,
 "nbformat_minor": 2
}
