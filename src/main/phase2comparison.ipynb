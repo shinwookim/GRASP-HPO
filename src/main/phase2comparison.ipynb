{
 "cells": [
  {
   "cell_type": "code",
   "execution_count": 1,
   "metadata": {},
   "outputs": [],
   "source": [
    "from main_hpo import HPO_SIM\n",
    "from grasp_core import GRASP_HPO\n",
    "\n",
    "from sklearn.datasets import load_breast_cancer, load_digits\n",
    "\n",
    "from queue import PriorityQueue\n",
    "import pandas as pd\n",
    "import matplotlib as plt"
   ]
  },
  {
   "cell_type": "code",
   "execution_count": 2,
   "metadata": {},
   "outputs": [],
   "source": [
    "sim = HPO_SIM()\n",
    "sim.prepare_dataset(load_breast_cancer())"
   ]
  },
  {
   "cell_type": "code",
   "execution_count": 3,
   "metadata": {},
   "outputs": [],
   "source": [
    "hp_ranges = {\n",
    "    'n_estimators': (50, 500),\n",
    "    'max_depth': (3, 10),\n",
    "    'colsample_bytree': (0.5, 1),\n",
    "    'reg_lambda': (0.01, 1.0),\n",
    "    'subsample': (0.5, 1.0)\n",
    "}\n",
    "\n",
    "ghpo = GRASP_HPO(sim.evaluate_solution)\n",
    "ghpo.configure_ranges(hp_ranges)"
   ]
  },
  {
   "cell_type": "code",
   "execution_count": 4,
   "metadata": {},
   "outputs": [
    {
     "data": {
      "text/html": [
       "<div>\n",
       "<style scoped>\n",
       "    .dataframe tbody tr th:only-of-type {\n",
       "        vertical-align: middle;\n",
       "    }\n",
       "\n",
       "    .dataframe tbody tr th {\n",
       "        vertical-align: top;\n",
       "    }\n",
       "\n",
       "    .dataframe thead th {\n",
       "        text-align: right;\n",
       "    }\n",
       "</style>\n",
       "<table border=\"1\" class=\"dataframe\">\n",
       "  <thead>\n",
       "    <tr style=\"text-align: right;\">\n",
       "      <th></th>\n",
       "      <th>score</th>\n",
       "    </tr>\n",
       "  </thead>\n",
       "  <tbody>\n",
       "    <tr>\n",
       "      <th>0</th>\n",
       "      <td>0.960488</td>\n",
       "    </tr>\n",
       "    <tr>\n",
       "      <th>1</th>\n",
       "      <td>0.960526</td>\n",
       "    </tr>\n",
       "  </tbody>\n",
       "</table>\n",
       "</div>"
      ],
      "text/plain": [
       "      score\n",
       "0  0.960488\n",
       "1  0.960526"
      ]
     },
     "execution_count": 4,
     "metadata": {},
     "output_type": "execute_result"
    }
   ],
   "source": [
    "pq = ghpo.get_intermediate()\n",
    "after_phase_1 = []\n",
    "for combo in pq.queue: after_phase_1.append(combo[0])\n",
    "inputs = pd.DataFrame({'score': after_phase_1})\n",
    "inputs\n",
    "# list of different HP configuration k-fold scores in priority queue FROM BUILD PHASE"
   ]
  },
  {
   "cell_type": "code",
   "execution_count": 5,
   "metadata": {},
   "outputs": [
    {
     "data": {
      "text/plain": [
       "0.9605258924417214"
      ]
     },
     "execution_count": 5,
     "metadata": {},
     "output_type": "execute_result"
    }
   ],
   "source": [
    "# achieved best score from build phase\n",
    "to_improve = max(after_phase_1)\n",
    "to_improve"
   ]
  },
  {
   "cell_type": "code",
   "execution_count": 11,
   "metadata": {},
   "outputs": [],
   "source": [
    "# duplicate output from phase 1 to test on 4 gen_neighbor functions\n",
    "combo1 = PriorityQueue()\n",
    "for c in pq.queue: combo1.put(c)\n",
    "\n",
    "combo2 = PriorityQueue()\n",
    "for c in pq.queue: combo2.put(c)\n",
    "\n",
    "combo3 = PriorityQueue()\n",
    "for c in pq.queue: combo3.put(c)\n",
    "\n",
    "combo4 = PriorityQueue()\n",
    "for c in pq.queue: combo4.put(c)"
   ]
  },
  {
   "cell_type": "code",
   "execution_count": 12,
   "metadata": {},
   "outputs": [
    {
     "name": "stdout",
     "output_type": "stream",
     "text": [
      "local search set to use fn 1: tweak all HPs\n",
      "local search set to use fn 2: reinitialize random set of HP\n",
      "local search set to use fn 3: tweak random set of HP\n",
      "local search set to use fn 0: reinitialize one random HP\n"
     ]
    }
   ],
   "source": [
    "after_phase_2 = {}\n",
    "# test each function and save k-fold mean score\n",
    "\n",
    "score, solution = ghpo.tune_intermediate(combo1)\n",
    "after_phase_2['fn0'] = [score]\n",
    "ghpo.cycle_gen_n()\n",
    "\n",
    "score, solution = ghpo.tune_intermediate(combo2)\n",
    "after_phase_2['fn1'] = [score]\n",
    "ghpo.cycle_gen_n()\n",
    "\n",
    "score, solution = ghpo.tune_intermediate(combo3)\n",
    "after_phase_2['fn2'] = [score]\n",
    "ghpo.cycle_gen_n()\n",
    "\n",
    "score, solution = ghpo.tune_intermediate(combo4)\n",
    "after_phase_2['fn3'] = [score]\n",
    "ghpo.cycle_gen_n()"
   ]
  },
  {
   "cell_type": "code",
   "execution_count": 13,
   "metadata": {},
   "outputs": [
    {
     "data": {
      "text/html": [
       "<div>\n",
       "<style scoped>\n",
       "    .dataframe tbody tr th:only-of-type {\n",
       "        vertical-align: middle;\n",
       "    }\n",
       "\n",
       "    .dataframe tbody tr th {\n",
       "        vertical-align: top;\n",
       "    }\n",
       "\n",
       "    .dataframe thead th {\n",
       "        text-align: right;\n",
       "    }\n",
       "</style>\n",
       "<table border=\"1\" class=\"dataframe\">\n",
       "  <thead>\n",
       "    <tr style=\"text-align: right;\">\n",
       "      <th></th>\n",
       "      <th>variable</th>\n",
       "      <th>value</th>\n",
       "      <th>inc</th>\n",
       "    </tr>\n",
       "  </thead>\n",
       "  <tbody>\n",
       "    <tr>\n",
       "      <th>0</th>\n",
       "      <td>fn0</td>\n",
       "      <td>0.966994</td>\n",
       "      <td>0.006468</td>\n",
       "    </tr>\n",
       "    <tr>\n",
       "      <th>1</th>\n",
       "      <td>fn1</td>\n",
       "      <td>0.964873</td>\n",
       "      <td>0.004347</td>\n",
       "    </tr>\n",
       "    <tr>\n",
       "      <th>2</th>\n",
       "      <td>fn2</td>\n",
       "      <td>0.962717</td>\n",
       "      <td>0.002191</td>\n",
       "    </tr>\n",
       "    <tr>\n",
       "      <th>3</th>\n",
       "      <td>fn3</td>\n",
       "      <td>0.964873</td>\n",
       "      <td>0.004347</td>\n",
       "    </tr>\n",
       "  </tbody>\n",
       "</table>\n",
       "</div>"
      ],
      "text/plain": [
       "  variable     value       inc\n",
       "0      fn0  0.966994  0.006468\n",
       "1      fn1  0.964873  0.004347\n",
       "2      fn2  0.962717  0.002191\n",
       "3      fn3  0.964873  0.004347"
      ]
     },
     "execution_count": 13,
     "metadata": {},
     "output_type": "execute_result"
    }
   ],
   "source": [
    "outputs = pd.DataFrame(after_phase_2, index=['score'])\n",
    "outputs = pd.melt(outputs)\n",
    "\n",
    "dif = [score - to_improve for score in outputs.loc[:,'value']]\n",
    "outputs['inc'] = dif\n",
    "outputs\n",
    "# inc column is change in score after local search phase"
   ]
  },
  {
   "cell_type": "code",
   "execution_count": 14,
   "metadata": {},
   "outputs": [
    {
     "data": {
      "image/png": "[encoded data removed]",
      "text/plain": [
       "<Figure size 640x480 with 1 Axes>"
      ]
     },
     "metadata": {},
     "output_type": "display_data"
    }
   ],
   "source": [
    "ax = outputs.plot.bar(y='inc', rot=0)"
   ]
  }
 ],
 "metadata": {
  "kernelspec": {
   "display_name": ".venv",
   "language": "python",
   "name": "python3"
  },
  "language_info": {
   "codemirror_mode": {
    "name": "ipython",
    "version": 3
   },
   "file_extension": ".py",
   "mimetype": "text/x-python",
   "name": "python",
   "nbconvert_exporter": "python",
   "pygments_lexer": "ipython3",
   "version": "3.10.6"
  }
 },
 "nbformat": 4,
 "nbformat_minor": 2
}
