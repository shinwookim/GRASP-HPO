{
 "cells": [
  {
   "cell_type": "code",
   "execution_count": 1,
   "metadata": {},
   "outputs": [],
   "source": [
    "from sklearn.datasets import load_breast_cancer\n",
    "from src.hpo.hpo_factory import HPOFactory"
   ]
  },
  {
   "cell_type": "code",
   "execution_count": 2,
   "metadata": {},
   "outputs": [],
   "source": [
    "HYPERPARAMETER_RANGES = {\n",
    "    'n_estimators': (50, 500),\n",
    "    'max_depth': (3, 10),\n",
    "    'colsample_bytree': (0.5, 1),\n",
    "    'reg_lambda': (0.01, 1.0),\n",
    "    'subsample': (0.5, 1.0)\n",
    "}"
   ]
  },
  {
   "cell_type": "code",
   "execution_count": 3,
   "metadata": {},
   "outputs": [],
   "source": [
    "data, labels = load_breast_cancer(return_X_y=True)"
   ]
  },
  {
   "cell_type": "code",
   "execution_count": 4,
   "metadata": {},
   "outputs": [
    {
     "name": "stdout",
     "output_type": "stream",
     "text": [
      "configuration:  {'n_estimators': 440, 'max_depth': 5, 'colsample_bytree': 0.7257988221075254, 'reg_lambda': 0.7714527329627645, 'subsample': 0.6616872489431906}\n",
      "f1_score:  0.9734654095556352\n"
     ]
    }
   ],
   "source": [
    "grasp_hpo = HPOFactory.create_hpo_strategy('GraspHpo')\n",
    "best_trial_config, best_trial_score = grasp_hpo.hyperparameter_optimization(data, labels, HYPERPARAMETER_RANGES)\n",
    "print('configuration: ', best_trial_config)\n",
    "print('f1_score: ', best_trial_score)"
   ]
  },
  {
   "cell_type": "code",
   "execution_count": 5,
   "metadata": {},
   "outputs": [
    {
     "name": "stdout",
     "output_type": "stream",
     "text": [
      "configuration:  {'n_estimators': 342, 'max_depth': 9, 'colsample_bytree': 0.8967655357513926, 'reg_lambda': 0.6356239424645599, 'subsample': 0.5781240265179619}\n",
      "f1_score:  0.9734654095556352\n"
     ]
    }
   ],
   "source": [
    "grasp_hpo.phase2.set_margin(.8)\n",
    "grasp_hpo.phase2.set_iter(10)\n",
    "best_trial_config, best_trial_score = grasp_hpo.hyperparameter_optimization(data, labels, HYPERPARAMETER_RANGES)\n",
    "print('configuration: ', best_trial_config)\n",
    "print('f1_score: ', best_trial_score)"
   ]
  }
 ],
 "metadata": {
  "kernelspec": {
   "display_name": ".venv",
   "language": "python",
   "name": "python3"
  },
  "language_info": {
   "codemirror_mode": {
    "name": "ipython",
    "version": 3
   },
   "file_extension": ".py",
   "mimetype": "text/x-python",
   "name": "python",
   "nbconvert_exporter": "python",
   "pygments_lexer": "ipython3",
   "version": "3.10.6"
  }
 },
 "nbformat": 4,
 "nbformat_minor": 2
}
