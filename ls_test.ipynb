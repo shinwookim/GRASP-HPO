{
 "cells": [
  {
   "cell_type": "code",
   "execution_count": 1,
   "metadata": {},
   "outputs": [],
   "source": [
    "from sklearn.datasets import load_breast_cancer\n",
    "from src.hpo.hpo_factory import HPOFactory\n",
    "from queue import PriorityQueue"
   ]
  },
  {
   "cell_type": "code",
   "execution_count": 2,
   "metadata": {},
   "outputs": [],
   "source": [
    "HYPERPARAMETER_RANGES = {\n",
    "    'n_estimators': (50, 500),\n",
    "    'max_depth': (3, 10),\n",
    "    'colsample_bytree': (0.5, 1),\n",
    "    'reg_lambda': (0.01, 1.0),\n",
    "    'subsample': (0.5, 1.0)\n",
    "}"
   ]
  },
  {
   "cell_type": "code",
   "execution_count": 3,
   "metadata": {},
   "outputs": [],
   "source": [
    "data, labels = load_breast_cancer(return_X_y=True)"
   ]
  },
  {
   "cell_type": "code",
   "execution_count": 4,
   "metadata": {},
   "outputs": [],
   "source": [
    "grasp_hpo = HPOFactory.create_hpo_strategy('GraspHpo')"
   ]
  },
  {
   "cell_type": "code",
   "execution_count": 5,
   "metadata": {},
   "outputs": [
    {
     "name": "stdout",
     "output_type": "stream",
     "text": [
      "0.9463967611336033\n",
      "0.9554882874504246\n",
      "0.9463967611336033\n",
      "0.9554882874504246\n",
      "0.9645092460881936\n",
      "0.9645092460881936\n",
      "0.9463967611336033\n",
      "0.9645092460881936\n",
      "0.9645092460881936\n",
      "0.9645092460881936\n",
      "\n",
      "Max: 0.9645092460881936\n",
      "{'n_estimators': 440, 'max_depth': 3, 'colsample_bytree': 0.9664364688499039, 'reg_lambda': 0.3980923710431626, 'subsample': 0.9972412547499023}\n",
      "{'n_estimators': 403, 'max_depth': 5, 'colsample_bytree': 0.6680962028406414, 'reg_lambda': 0.10509879670229651, 'subsample': 0.8363067821803007}\n",
      "{'n_estimators': 500, 'max_depth': 4, 'colsample_bytree': 0.801711253387538, 'reg_lambda': 0.3834564424282509, 'subsample': 0.5864744862327521}\n",
      "{'n_estimators': 162, 'max_depth': 10, 'colsample_bytree': 0.8484568377232797, 'reg_lambda': 0.0492698786966347, 'subsample': 0.5727116348954191}\n",
      "{'n_estimators': 406, 'max_depth': 5, 'colsample_bytree': 0.6373859302611599, 'reg_lambda': 0.24144429780747512, 'subsample': 0.6384603875440449}\n"
     ]
    }
   ],
   "source": [
    "\n",
    "x_train, x_test, y_train, y_test = grasp_hpo.prepare_dataset(data, labels)\n",
    "intermediate = grasp_hpo.phase1.building_phase(x_train, x_test, y_train, y_test, HYPERPARAMETER_RANGES)\n",
    "scores = []\n",
    "sol = []\n",
    "for q in intermediate.queue: \n",
    "    print(q[0])\n",
    "    scores.append(q[0])\n",
    "    sol.append(q[2])\n",
    "print()\n",
    "m = max(scores)\n",
    "print('Max: ' + str(m))\n",
    "ind = []\n",
    "for i, s in enumerate(scores):\n",
    "    if s == m: ind.append(i)\n",
    "\n",
    "for i in ind: print(sol[i])"
   ]
  },
  {
   "cell_type": "code",
   "execution_count": 6,
   "metadata": {},
   "outputs": [
    {
     "name": "stdout",
     "output_type": "stream",
     "text": [
      "Best score: 0.9734654095556352\n",
      "Best solution: {'n_estimators': 493, 'max_depth': 3, 'colsample_bytree': 0.8762773529156764, 'reg_lambda': 0.07653434221776102, 'subsample': 0.6185121608509544}\n"
     ]
    }
   ],
   "source": [
    "int1 = PriorityQueue()\n",
    "for c in intermediate.queue: int1.put(c)\n",
    "\n",
    "grasp_hpo.phase2.set_iter(25)\n",
    "grasp_hpo.phase2.set_margin(.15)\n",
    "best_trial_config, best_trial_score = grasp_hpo.phase2.local_search(int1, x_train, x_test, y_train, y_test, HYPERPARAMETER_RANGES)\n",
    "print('Best score: {}\\nBest solution: {}'.format(best_trial_score, best_trial_config))"
   ]
  },
  {
   "cell_type": "code",
   "execution_count": 7,
   "metadata": {},
   "outputs": [
    {
     "name": "stdout",
     "output_type": "stream",
     "text": [
      "Best score: 0.9734654095556352\n",
      "Best solution: {'n_estimators': 420, 'max_depth': 4, 'colsample_bytree': 0.8915205742176019, 'reg_lambda': 0.14790730093486001, 'subsample': 0.6142513653280034}\n"
     ]
    }
   ],
   "source": [
    "int2 = PriorityQueue()\n",
    "for c in intermediate.queue: int2.put(c)\n",
    "\n",
    "grasp_hpo.phase2.set_iter(25)\n",
    "grasp_hpo.phase2.set_margin(.30)\n",
    "best_trial_config, best_trial_score = grasp_hpo.phase2.local_search(int2, x_train, x_test, y_train, y_test, HYPERPARAMETER_RANGES)\n",
    "print('Best score: {}\\nBest solution: {}'.format(best_trial_score, best_trial_config))"
   ]
  },
  {
   "cell_type": "code",
   "execution_count": 8,
   "metadata": {},
   "outputs": [
    {
     "name": "stdout",
     "output_type": "stream",
     "text": [
      "Best score: 0.9734654095556352\n",
      "Best solution: {'n_estimators': 342, 'max_depth': 4, 'colsample_bytree': 0.7519938776286368, 'reg_lambda': 0.43782936670783096, 'subsample': 0.6609940194166931}\n"
     ]
    }
   ],
   "source": [
    "int3 = PriorityQueue()\n",
    "for c in intermediate.queue: int3.put(c)\n",
    "\n",
    "grasp_hpo.phase2.set_iter(25)\n",
    "grasp_hpo.phase2.set_margin(.50)\n",
    "best_trial_config, best_trial_score = grasp_hpo.phase2.local_search(int3, x_train, x_test, y_train, y_test, HYPERPARAMETER_RANGES)\n",
    "print('Best score: {}\\nBest solution: {}'.format(best_trial_score, best_trial_config))"
   ]
  }
 ],
 "metadata": {
  "kernelspec": {
   "display_name": ".venv",
   "language": "python",
   "name": "python3"
  },
  "language_info": {
   "codemirror_mode": {
    "name": "ipython",
    "version": 3
   },
   "file_extension": ".py",
   "mimetype": "text/x-python",
   "name": "python",
   "nbconvert_exporter": "python",
   "pygments_lexer": "ipython3",
   "version": "3.10.6"
  }
 },
 "nbformat": 4,
 "nbformat_minor": 2
}
