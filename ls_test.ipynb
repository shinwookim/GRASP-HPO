{
 "cells": [
  {
   "cell_type": "code",
   "execution_count": 1,
   "metadata": {},
   "outputs": [],
   "source": [
    "from sklearn.datasets import load_digits\n",
    "from src.hpo.hpo_factory import HPOFactory\n",
    "from queue import PriorityQueue\n",
    "import time"
   ]
  },
  {
   "cell_type": "code",
   "execution_count": 2,
   "metadata": {},
   "outputs": [],
   "source": [
    "HYPERPARAMETER_RANGES = {\n",
    "    'n_estimators': (50, 500),\n",
    "    'max_depth': (3, 10),\n",
    "    'colsample_bytree': (0.5, 1),\n",
    "    'reg_lambda': (0.01, 1.0),\n",
    "    'subsample': (0.5, 1.0)\n",
    "}"
   ]
  },
  {
   "cell_type": "code",
   "execution_count": 3,
   "metadata": {},
   "outputs": [],
   "source": [
    "data, labels = load_digits(return_X_y=True)"
   ]
  },
  {
   "cell_type": "code",
   "execution_count": 4,
   "metadata": {},
   "outputs": [
    {
     "name": "stdout",
     "output_type": "stream",
     "text": [
      "GRASP_HPO: \n",
      "configuration:  {'n_estimators': 408, 'max_depth': 4, 'colsample_bytree': 0.5342972819346212, 'reg_lambda': 0.2341593341539082, 'subsample': 0.6925926839129574}\n",
      "f1_score:  0.9861518312525072\n",
      "time: 55.494776487350464\n"
     ]
    }
   ],
   "source": [
    "grasp_hpo = HPOFactory.create_hpo_strategy('GraspHpo')\n",
    "grasp_hpo.phase2.set_iter(5)\n",
    "start = time.time()\n",
    "grasp_best_trial_config, grasp_best_trial_score = grasp_hpo.hyperparameter_optimization(data, labels, HYPERPARAMETER_RANGES)\n",
    "stop = time.time()\n",
    "print('GRASP_HPO: ')\n",
    "print('configuration: ', grasp_best_trial_config)\n",
    "print('f1_score: ', grasp_best_trial_score)\n",
    "print('time: {}'.format(stop - start))"
   ]
  },
  {
   "cell_type": "code",
   "execution_count": 5,
   "metadata": {},
   "outputs": [
    {
     "name": "stdout",
     "output_type": "stream",
     "text": [
      "GRASP_HPO: \n",
      "configuration:  {'n_estimators': 402, 'max_depth': 4, 'colsample_bytree': 0.5627708238125028, 'reg_lambda': 0.7409053280420215, 'subsample': 0.6649961386511686}\n",
      "f1_score:  0.986290976837869\n",
      "time: 175.2196078300476\n"
     ]
    }
   ],
   "source": [
    "grasp_hpo = HPOFactory.create_hpo_strategy('GraspHpo')\n",
    "grasp_hpo.phase2.set_iter(25)\n",
    "start = time.time()\n",
    "grasp_best_trial_config, grasp_best_trial_score = grasp_hpo.hyperparameter_optimization(data, labels, HYPERPARAMETER_RANGES)\n",
    "stop = time.time()\n",
    "print('GRASP_HPO: ')\n",
    "print('configuration: ', grasp_best_trial_config)\n",
    "print('f1_score: ', grasp_best_trial_score)\n",
    "print('time: {}'.format(stop - start))"
   ]
  },
  {
   "cell_type": "code",
   "execution_count": 6,
   "metadata": {},
   "outputs": [],
   "source": [
    "grasp_hpo = HPOFactory.create_hpo_strategy('GraspHpo')\n",
    "grasp_hpo.phase2.set_iter(50)\n",
    "start = time.time()\n",
    "grasp_best_trial_config, grasp_best_trial_score = grasp_hpo.hyperparameter_optimization(data, labels, HYPERPARAMETER_RANGES)\n",
    "stop = time.time()\n",
    "print('GRASP_HPO: ')\n",
    "print('configuration: ', grasp_best_trial_config)\n",
    "print('f1_score: ', grasp_best_trial_score)\n",
    "print('time: {}'.format(stop - start))"
   ]
  }
 ],
 "metadata": {
  "kernelspec": {
   "display_name": ".venv",
   "language": "python",
   "name": "python3"
  },
  "language_info": {
   "codemirror_mode": {
    "name": "ipython",
    "version": 3
   },
   "file_extension": ".py",
   "mimetype": "text/x-python",
   "name": "python",
   "nbconvert_exporter": "python",
   "pygments_lexer": "ipython3",
   "version": "3.10.6"
  }
 },
 "nbformat": 4,
 "nbformat_minor": 2
}
